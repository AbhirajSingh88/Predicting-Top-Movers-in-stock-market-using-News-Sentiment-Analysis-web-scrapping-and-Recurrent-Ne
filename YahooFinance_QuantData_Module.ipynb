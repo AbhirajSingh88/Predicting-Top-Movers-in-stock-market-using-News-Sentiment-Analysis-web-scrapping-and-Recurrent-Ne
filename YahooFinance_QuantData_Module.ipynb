{
 "cells": [
  {
   "cell_type": "code",
   "execution_count": 1,
   "metadata": {
    "colab": {
     "base_uri": "https://localhost:8080/",
     "height": 457
    },
    "id": "bR4ypyoImcgx",
    "outputId": "6fe9a473-847c-4626-fc97-6d6784844444"
   },
   "outputs": [
    {
     "name": "stdout",
     "output_type": "stream",
     "text": [
      "Requirement already satisfied: pandas-datareader in /usr/local/lib/python3.6/dist-packages (0.9.0)\n",
      "Requirement already satisfied: pandas>=0.23 in /usr/local/lib/python3.6/dist-packages (from pandas-datareader) (1.1.2)\n",
      "Requirement already satisfied: lxml in /usr/local/lib/python3.6/dist-packages (from pandas-datareader) (4.6.1)\n",
      "Requirement already satisfied: requests>=2.19.0 in /usr/local/lib/python3.6/dist-packages (from pandas-datareader) (2.23.0)\n",
      "Requirement already satisfied: numpy>=1.15.4 in /usr/local/lib/python3.6/dist-packages (from pandas>=0.23->pandas-datareader) (1.18.5)\n",
      "Requirement already satisfied: pytz>=2017.2 in /usr/local/lib/python3.6/dist-packages (from pandas>=0.23->pandas-datareader) (2018.9)\n",
      "Requirement already satisfied: python-dateutil>=2.7.3 in /usr/local/lib/python3.6/dist-packages (from pandas>=0.23->pandas-datareader) (2.8.1)\n",
      "Requirement already satisfied: certifi>=2017.4.17 in /usr/local/lib/python3.6/dist-packages (from requests>=2.19.0->pandas-datareader) (2020.6.20)\n",
      "Requirement already satisfied: idna<3,>=2.5 in /usr/local/lib/python3.6/dist-packages (from requests>=2.19.0->pandas-datareader) (2.10)\n",
      "Requirement already satisfied: chardet<4,>=3.0.2 in /usr/local/lib/python3.6/dist-packages (from requests>=2.19.0->pandas-datareader) (3.0.4)\n",
      "Requirement already satisfied: urllib3!=1.25.0,!=1.25.1,<1.26,>=1.21.1 in /usr/local/lib/python3.6/dist-packages (from requests>=2.19.0->pandas-datareader) (1.24.3)\n",
      "Requirement already satisfied: six>=1.5 in /usr/local/lib/python3.6/dist-packages (from python-dateutil>=2.7.3->pandas>=0.23->pandas-datareader) (1.15.0)\n",
      "Requirement already satisfied: yfinance in /usr/local/lib/python3.6/dist-packages (0.1.55)\n",
      "Requirement already satisfied: pandas>=0.24 in /usr/local/lib/python3.6/dist-packages (from yfinance) (1.1.2)\n",
      "Requirement already satisfied: numpy>=1.15 in /usr/local/lib/python3.6/dist-packages (from yfinance) (1.18.5)\n",
      "Requirement already satisfied: multitasking>=0.0.7 in /usr/local/lib/python3.6/dist-packages (from yfinance) (0.0.9)\n",
      "Requirement already satisfied: lxml>=4.5.1 in /usr/local/lib/python3.6/dist-packages (from yfinance) (4.6.1)\n",
      "Requirement already satisfied: requests>=2.20 in /usr/local/lib/python3.6/dist-packages (from yfinance) (2.23.0)\n",
      "Requirement already satisfied: python-dateutil>=2.7.3 in /usr/local/lib/python3.6/dist-packages (from pandas>=0.24->yfinance) (2.8.1)\n",
      "Requirement already satisfied: pytz>=2017.2 in /usr/local/lib/python3.6/dist-packages (from pandas>=0.24->yfinance) (2018.9)\n",
      "Requirement already satisfied: chardet<4,>=3.0.2 in /usr/local/lib/python3.6/dist-packages (from requests>=2.20->yfinance) (3.0.4)\n",
      "Requirement already satisfied: idna<3,>=2.5 in /usr/local/lib/python3.6/dist-packages (from requests>=2.20->yfinance) (2.10)\n",
      "Requirement already satisfied: urllib3!=1.25.0,!=1.25.1,<1.26,>=1.21.1 in /usr/local/lib/python3.6/dist-packages (from requests>=2.20->yfinance) (1.24.3)\n",
      "Requirement already satisfied: certifi>=2017.4.17 in /usr/local/lib/python3.6/dist-packages (from requests>=2.20->yfinance) (2020.6.20)\n",
      "Requirement already satisfied: six>=1.5 in /usr/local/lib/python3.6/dist-packages (from python-dateutil>=2.7.3->pandas>=0.24->yfinance) (1.15.0)\n"
     ]
    }
   ],
   "source": [
    "%pip install pandas-datareader\n",
    "%pip install yfinance"
   ]
  },
  {
   "cell_type": "code",
   "execution_count": 2,
   "metadata": {
    "colab": {
     "base_uri": "https://localhost:8080/",
     "height": 722
    },
    "id": "uOm7iPYphPqg",
    "outputId": "6bc5b6ef-35f0-4ade-d5dd-4a637b039f38"
   },
   "outputs": [
    {
     "name": "stdout",
     "output_type": "stream",
     "text": [
      "DJIA\n",
      "[*********************100%***********************]  1 of 1 completed\n",
      "DOW\n",
      "[*********************100%***********************]  1 of 1 completed\n",
      "LEJU\n",
      "[*********************100%***********************]  1 of 1 completed\n",
      "SAM\n",
      "[*********************100%***********************]  1 of 1 completed\n",
      "VOXX\n",
      "[*********************100%***********************]  1 of 1 completed\n",
      "LOOP\n",
      "[*********************100%***********************]  1 of 1 completed\n",
      "ADAP\n",
      "[*********************100%***********************]  1 of 1 completed\n",
      "MAT\n",
      "[*********************100%***********************]  1 of 1 completed\n",
      "SIM\n",
      "[*********************100%***********************]  1 of 1 completed\n",
      "NXGN\n",
      "[*********************100%***********************]  1 of 1 completed\n",
      "HYMC\n",
      "[*********************100%***********************]  1 of 1 completed\n",
      "TSLA\n",
      "[*********************100%***********************]  1 of 1 completed\n",
      "AAPL\n",
      "[*********************100%***********************]  1 of 1 completed\n",
      "MSFT\n",
      "[*********************100%***********************]  1 of 1 completed\n",
      "LLNW\n",
      "[*********************100%***********************]  1 of 1 completed\n",
      "TC\n",
      "[*********************100%***********************]  1 of 1 completed\n",
      "USX\n",
      "[*********************100%***********************]  1 of 1 completed\n",
      "GLBS\n",
      "[*********************100%***********************]  1 of 1 completed\n",
      "         Date    Open    High     Low   Close  Adj Close  Volume\n",
      "0  2019-12-02  10.300  10.300  10.300  10.300     10.300    4200\n",
      "1  2019-12-03  10.295  10.295  10.295  10.295     10.295     100\n",
      "2  2019-12-04  10.295  10.295  10.295  10.295     10.295       0\n",
      "3  2019-12-05  10.295  10.295  10.295  10.295     10.295       0\n",
      "4  2019-12-06  10.330  10.350  10.315  10.320     10.320    2300\n"
     ]
    }
   ],
   "source": [
    "from pandas_datareader import data as pdr\n",
    "from datetime import date\n",
    "import yfinance as yf\n",
    "yf.pdr_override()\n",
    "import pandas as pd\n",
    "\n",
    "# Tickers list\n",
    "# We can add and delete any ticker from the list to get desired ticker live data\n",
    "ticker_list=['DJIA', 'DOW', 'LEJU', 'SAM', 'VOXX', 'LOOP', 'ADAP', 'MAT' , 'SIM', 'NXGN', 'HYMC', 'TSLA', 'AAPL', 'MSFT','LLNW','TC','USX','GLBS']\n",
    "today = date.today()\n",
    "# We can get data by our choice by giving days bracket\n",
    "start_date= '2017-01-01'\n",
    "end_date='2019-11-30'\n",
    "files=[]\n",
    "# Create a data folder in your current dir.\n",
    "def SaveData(df, filename):\n",
    "  df.to_csv('./'+filename+'.csv')\n",
    "def getData(ticker):\n",
    "  print (ticker)\n",
    "  data = pdr.get_data_yahoo(ticker, start=start_date, end=today)\n",
    "  dataname= ticker+'_'+str(today)\n",
    "  files.append(dataname)\n",
    "  SaveData(data, dataname)\n",
    "\n",
    "#This loop will iterate over ticker list, will pass one ticker to get data, and save that data as file.\n",
    "for tik in ticker_list:\n",
    "  getData(tik)\n",
    "for i in range(0,11):\n",
    "  df1= pd.read_csv('./'+ str(files[i])+'.csv')\n",
    "print (df1.head())"
   ]
  },
  {
   "cell_type": "code",
   "execution_count": 2,
   "metadata": {
    "id": "8_GEOa-7k0l1"
   },
   "outputs": [],
   "source": []
  }
 ],
 "metadata": {
  "colab": {
   "collapsed_sections": [],
   "name": "YahooFinance.ipynb",
   "provenance": []
  },
  "kernelspec": {
   "display_name": "Python 3",
   "language": "python",
   "name": "python3"
  },
  "language_info": {
   "codemirror_mode": {
    "name": "ipython",
    "version": 3
   },
   "file_extension": ".py",
   "mimetype": "text/x-python",
   "name": "python",
   "nbconvert_exporter": "python",
   "pygments_lexer": "ipython3",
   "version": "3.8.3"
  }
 },
 "nbformat": 4,
 "nbformat_minor": 1
}
