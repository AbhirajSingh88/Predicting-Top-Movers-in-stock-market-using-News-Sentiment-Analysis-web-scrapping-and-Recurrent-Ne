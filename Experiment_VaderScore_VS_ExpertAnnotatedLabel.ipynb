{
 "cells": [
  {
   "cell_type": "code",
   "execution_count": 1,
   "metadata": {
    "colab": {
     "base_uri": "https://localhost:8080/"
    },
    "id": "cNK6aOHawPye",
    "outputId": "cb907a18-585d-45fb-b0b2-1a35cfa4b16e"
   },
   "outputs": [
    {
     "name": "stdout",
     "output_type": "stream",
     "text": [
      "Requirement already satisfied: pandas-datareader in /usr/local/lib/python3.6/dist-packages (0.9.0)\n",
      "Requirement already satisfied: requests>=2.19.0 in /usr/local/lib/python3.6/dist-packages (from pandas-datareader) (2.23.0)\n",
      "Requirement already satisfied: lxml in /usr/local/lib/python3.6/dist-packages (from pandas-datareader) (4.2.6)\n",
      "Requirement already satisfied: pandas>=0.23 in /usr/local/lib/python3.6/dist-packages (from pandas-datareader) (1.1.4)\n",
      "Requirement already satisfied: urllib3!=1.25.0,!=1.25.1,<1.26,>=1.21.1 in /usr/local/lib/python3.6/dist-packages (from requests>=2.19.0->pandas-datareader) (1.24.3)\n",
      "Requirement already satisfied: chardet<4,>=3.0.2 in /usr/local/lib/python3.6/dist-packages (from requests>=2.19.0->pandas-datareader) (3.0.4)\n",
      "Requirement already satisfied: idna<3,>=2.5 in /usr/local/lib/python3.6/dist-packages (from requests>=2.19.0->pandas-datareader) (2.10)\n",
      "Requirement already satisfied: certifi>=2017.4.17 in /usr/local/lib/python3.6/dist-packages (from requests>=2.19.0->pandas-datareader) (2020.11.8)\n",
      "Requirement already satisfied: pytz>=2017.2 in /usr/local/lib/python3.6/dist-packages (from pandas>=0.23->pandas-datareader) (2018.9)\n",
      "Requirement already satisfied: numpy>=1.15.4 in /usr/local/lib/python3.6/dist-packages (from pandas>=0.23->pandas-datareader) (1.18.5)\n",
      "Requirement already satisfied: python-dateutil>=2.7.3 in /usr/local/lib/python3.6/dist-packages (from pandas>=0.23->pandas-datareader) (2.8.1)\n",
      "Requirement already satisfied: six>=1.5 in /usr/local/lib/python3.6/dist-packages (from python-dateutil>=2.7.3->pandas>=0.23->pandas-datareader) (1.15.0)\n",
      "Collecting get-all-tickers\n",
      "  Downloading https://files.pythonhosted.org/packages/26/a3/d6469bd207bf73b769b94f6000be4ea83cad26a6a32a5fea726cd2522e7e/get_all_tickers-1.7.tar.gz\n",
      "Requirement already satisfied: pandas in /usr/local/lib/python3.6/dist-packages (from get-all-tickers) (1.1.4)\n",
      "Requirement already satisfied: requests in /usr/local/lib/python3.6/dist-packages (from get-all-tickers) (2.23.0)\n",
      "Requirement already satisfied: pytz>=2017.2 in /usr/local/lib/python3.6/dist-packages (from pandas->get-all-tickers) (2018.9)\n",
      "Requirement already satisfied: python-dateutil>=2.7.3 in /usr/local/lib/python3.6/dist-packages (from pandas->get-all-tickers) (2.8.1)\n",
      "Requirement already satisfied: numpy>=1.15.4 in /usr/local/lib/python3.6/dist-packages (from pandas->get-all-tickers) (1.18.5)\n",
      "Requirement already satisfied: urllib3!=1.25.0,!=1.25.1,<1.26,>=1.21.1 in /usr/local/lib/python3.6/dist-packages (from requests->get-all-tickers) (1.24.3)\n",
      "Requirement already satisfied: idna<3,>=2.5 in /usr/local/lib/python3.6/dist-packages (from requests->get-all-tickers) (2.10)\n",
      "Requirement already satisfied: certifi>=2017.4.17 in /usr/local/lib/python3.6/dist-packages (from requests->get-all-tickers) (2020.11.8)\n",
      "Requirement already satisfied: chardet<4,>=3.0.2 in /usr/local/lib/python3.6/dist-packages (from requests->get-all-tickers) (3.0.4)\n",
      "Requirement already satisfied: six>=1.5 in /usr/local/lib/python3.6/dist-packages (from python-dateutil>=2.7.3->pandas->get-all-tickers) (1.15.0)\n",
      "Building wheels for collected packages: get-all-tickers\n",
      "  Building wheel for get-all-tickers (setup.py): started\n",
      "  Building wheel for get-all-tickers (setup.py): finished with status 'done'\n",
      "  Created wheel for get-all-tickers: filename=get_all_tickers-1.7-cp36-none-any.whl size=4242 sha256=f8af6b01dd16efeb8e561bfaedb0ccbc1fa2e4be8d0c4d346e3903eb8c3ea9ce\n",
      "  Stored in directory: /root/.cache/pip/wheels/d0/8b/ef/6cd3580f4b479aef881a32bd937c282982e3d186b617a663ac\n",
      "Successfully built get-all-tickers\n",
      "Installing collected packages: get-all-tickers\n",
      "Successfully installed get-all-tickers-1.7\n"
     ]
    }
   ],
   "source": [
    "%%bash\n",
    "pip install pandas-datareader\n",
    "pip install get-all-tickers"
   ]
  },
  {
   "cell_type": "code",
   "execution_count": 2,
   "metadata": {
    "id": "XwAm5XlduYQj"
   },
   "outputs": [],
   "source": [
    "\n",
    "import numpy as np\n",
    "import tensorflow as tf\n",
    "import keras\n",
    "from keras.models import Sequential\n",
    "from keras.layers import Dense\n",
    "from keras.callbacks import History\n",
    "from collections import Iterable\n",
    "from sklearn.model_selection import train_test_split\n",
    "from sklearn.preprocessing import StandardScaler\n",
    "import pandas as pd\n",
    "\n",
    "import pandas as pd\n",
    "import time\n",
    "import datetime\n",
    "import pandas_datareader.data as web\n",
    "from pandas import Series, DataFrame\n",
    "from get_all_tickers import get_tickers as gt\n"
   ]
  },
  {
   "cell_type": "code",
   "execution_count": 3,
   "metadata": {
    "colab": {
     "base_uri": "https://localhost:8080/",
     "height": 223
    },
    "id": "PNxydatgyqHU",
    "outputId": "cd142807-b87f-4730-95c1-8716ede9dcfd"
   },
   "outputs": [
    {
     "data": {
      "text/html": [
       "<div>\n",
       "<style scoped>\n",
       "    .dataframe tbody tr th:only-of-type {\n",
       "        vertical-align: middle;\n",
       "    }\n",
       "\n",
       "    .dataframe tbody tr th {\n",
       "        vertical-align: top;\n",
       "    }\n",
       "\n",
       "    .dataframe thead th {\n",
       "        text-align: right;\n",
       "    }\n",
       "</style>\n",
       "<table border=\"1\" class=\"dataframe\">\n",
       "  <thead>\n",
       "    <tr style=\"text-align: right;\">\n",
       "      <th></th>\n",
       "      <th>Label</th>\n",
       "    </tr>\n",
       "    <tr>\n",
       "      <th>Date</th>\n",
       "      <th></th>\n",
       "    </tr>\n",
       "  </thead>\n",
       "  <tbody>\n",
       "    <tr>\n",
       "      <th>2008-08-08</th>\n",
       "      <td>0</td>\n",
       "    </tr>\n",
       "    <tr>\n",
       "      <th>2008-08-11</th>\n",
       "      <td>1</td>\n",
       "    </tr>\n",
       "    <tr>\n",
       "      <th>2008-08-12</th>\n",
       "      <td>0</td>\n",
       "    </tr>\n",
       "    <tr>\n",
       "      <th>2008-08-13</th>\n",
       "      <td>0</td>\n",
       "    </tr>\n",
       "    <tr>\n",
       "      <th>2008-08-14</th>\n",
       "      <td>1</td>\n",
       "    </tr>\n",
       "  </tbody>\n",
       "</table>\n",
       "</div>"
      ],
      "text/plain": [
       "            Label\n",
       "Date             \n",
       "2008-08-08      0\n",
       "2008-08-11      1\n",
       "2008-08-12      0\n",
       "2008-08-13      0\n",
       "2008-08-14      1"
      ]
     },
     "execution_count": 3,
     "metadata": {
      "tags": []
     },
     "output_type": "execute_result"
    }
   ],
   "source": [
    "#getting the labels\n",
    "news_data = pd.read_csv('Combined_News_DJIA.csv', index_col=0)\n",
    "labels = news_data[['Label']]\n",
    "labels.head(5)"
   ]
  },
  {
   "cell_type": "code",
   "execution_count": 4,
   "metadata": {
    "colab": {
     "base_uri": "https://localhost:8080/",
     "height": 223
    },
    "id": "3dBdjFyhujab",
    "outputId": "a7953c51-c48b-4a6a-a9e3-f032069b0b7e"
   },
   "outputs": [
    {
     "data": {
      "text/html": [
       "<div>\n",
       "<style scoped>\n",
       "    .dataframe tbody tr th:only-of-type {\n",
       "        vertical-align: middle;\n",
       "    }\n",
       "\n",
       "    .dataframe tbody tr th {\n",
       "        vertical-align: top;\n",
       "    }\n",
       "\n",
       "    .dataframe thead th {\n",
       "        text-align: right;\n",
       "    }\n",
       "</style>\n",
       "<table border=\"1\" class=\"dataframe\">\n",
       "  <thead>\n",
       "    <tr style=\"text-align: right;\">\n",
       "      <th></th>\n",
       "      <th>pos_mean</th>\n",
       "      <th>neg_mean</th>\n",
       "      <th>neu_mean</th>\n",
       "      <th>comp_mean</th>\n",
       "    </tr>\n",
       "    <tr>\n",
       "      <th>Date</th>\n",
       "      <th></th>\n",
       "      <th></th>\n",
       "      <th></th>\n",
       "      <th></th>\n",
       "    </tr>\n",
       "  </thead>\n",
       "  <tbody>\n",
       "    <tr>\n",
       "      <th>2008-08-08</th>\n",
       "      <td>0.03728</td>\n",
       "      <td>0.19956</td>\n",
       "      <td>0.76320</td>\n",
       "      <td>-0.354260</td>\n",
       "    </tr>\n",
       "    <tr>\n",
       "      <th>2008-08-11</th>\n",
       "      <td>0.06180</td>\n",
       "      <td>0.16404</td>\n",
       "      <td>0.77408</td>\n",
       "      <td>-0.158716</td>\n",
       "    </tr>\n",
       "    <tr>\n",
       "      <th>2008-08-12</th>\n",
       "      <td>0.06444</td>\n",
       "      <td>0.14580</td>\n",
       "      <td>0.78980</td>\n",
       "      <td>-0.191800</td>\n",
       "    </tr>\n",
       "    <tr>\n",
       "      <th>2008-08-13</th>\n",
       "      <td>0.05620</td>\n",
       "      <td>0.14432</td>\n",
       "      <td>0.79944</td>\n",
       "      <td>-0.141844</td>\n",
       "    </tr>\n",
       "    <tr>\n",
       "      <th>2008-08-14</th>\n",
       "      <td>0.08372</td>\n",
       "      <td>0.16136</td>\n",
       "      <td>0.75488</td>\n",
       "      <td>-0.136908</td>\n",
       "    </tr>\n",
       "  </tbody>\n",
       "</table>\n",
       "</div>"
      ],
      "text/plain": [
       "            pos_mean  neg_mean  neu_mean  comp_mean\n",
       "Date                                               \n",
       "2008-08-08   0.03728   0.19956   0.76320  -0.354260\n",
       "2008-08-11   0.06180   0.16404   0.77408  -0.158716\n",
       "2008-08-12   0.06444   0.14580   0.78980  -0.191800\n",
       "2008-08-13   0.05620   0.14432   0.79944  -0.141844\n",
       "2008-08-14   0.08372   0.16136   0.75488  -0.136908"
      ]
     },
     "execution_count": 4,
     "metadata": {
      "tags": []
     },
     "output_type": "execute_result"
    }
   ],
   "source": [
    "result = pd.read_csv('result.csv')\n",
    "result = result.drop(columns=['Unnamed: 0'])\n",
    "result.set_index('Date', inplace=True)\n",
    "result.head(5)"
   ]
  },
  {
   "cell_type": "code",
   "execution_count": 5,
   "metadata": {
    "colab": {
     "base_uri": "https://localhost:8080/",
     "height": 194
    },
    "id": "VaO9lwXNurrm",
    "outputId": "d6db82f3-e9e6-41d4-cd99-fe101c827e28"
   },
   "outputs": [
    {
     "data": {
      "text/html": [
       "<div>\n",
       "<style scoped>\n",
       "    .dataframe tbody tr th:only-of-type {\n",
       "        vertical-align: middle;\n",
       "    }\n",
       "\n",
       "    .dataframe tbody tr th {\n",
       "        vertical-align: top;\n",
       "    }\n",
       "\n",
       "    .dataframe thead th {\n",
       "        text-align: right;\n",
       "    }\n",
       "</style>\n",
       "<table border=\"1\" class=\"dataframe\">\n",
       "  <thead>\n",
       "    <tr style=\"text-align: right;\">\n",
       "      <th></th>\n",
       "      <th>Date</th>\n",
       "      <th>Open</th>\n",
       "      <th>High</th>\n",
       "      <th>Low</th>\n",
       "      <th>Close</th>\n",
       "      <th>Volume</th>\n",
       "      <th>Adj Close</th>\n",
       "    </tr>\n",
       "  </thead>\n",
       "  <tbody>\n",
       "    <tr>\n",
       "      <th>0</th>\n",
       "      <td>2016-07-01</td>\n",
       "      <td>17924.240234</td>\n",
       "      <td>18002.380859</td>\n",
       "      <td>17916.910156</td>\n",
       "      <td>17949.369141</td>\n",
       "      <td>82160000</td>\n",
       "      <td>17949.369141</td>\n",
       "    </tr>\n",
       "    <tr>\n",
       "      <th>1</th>\n",
       "      <td>2016-06-30</td>\n",
       "      <td>17712.759766</td>\n",
       "      <td>17930.609375</td>\n",
       "      <td>17711.800781</td>\n",
       "      <td>17929.990234</td>\n",
       "      <td>133030000</td>\n",
       "      <td>17929.990234</td>\n",
       "    </tr>\n",
       "    <tr>\n",
       "      <th>2</th>\n",
       "      <td>2016-06-29</td>\n",
       "      <td>17456.019531</td>\n",
       "      <td>17704.509766</td>\n",
       "      <td>17456.019531</td>\n",
       "      <td>17694.679688</td>\n",
       "      <td>106380000</td>\n",
       "      <td>17694.679688</td>\n",
       "    </tr>\n",
       "    <tr>\n",
       "      <th>3</th>\n",
       "      <td>2016-06-28</td>\n",
       "      <td>17190.509766</td>\n",
       "      <td>17409.720703</td>\n",
       "      <td>17190.509766</td>\n",
       "      <td>17409.720703</td>\n",
       "      <td>112190000</td>\n",
       "      <td>17409.720703</td>\n",
       "    </tr>\n",
       "    <tr>\n",
       "      <th>4</th>\n",
       "      <td>2016-06-27</td>\n",
       "      <td>17355.210938</td>\n",
       "      <td>17355.210938</td>\n",
       "      <td>17063.080078</td>\n",
       "      <td>17140.240234</td>\n",
       "      <td>138740000</td>\n",
       "      <td>17140.240234</td>\n",
       "    </tr>\n",
       "  </tbody>\n",
       "</table>\n",
       "</div>"
      ],
      "text/plain": [
       "         Date          Open  ...     Volume     Adj Close\n",
       "0  2016-07-01  17924.240234  ...   82160000  17949.369141\n",
       "1  2016-06-30  17712.759766  ...  133030000  17929.990234\n",
       "2  2016-06-29  17456.019531  ...  106380000  17694.679688\n",
       "3  2016-06-28  17190.509766  ...  112190000  17409.720703\n",
       "4  2016-06-27  17355.210938  ...  138740000  17140.240234\n",
       "\n",
       "[5 rows x 7 columns]"
      ]
     },
     "execution_count": 5,
     "metadata": {
      "tags": []
     },
     "output_type": "execute_result"
    }
   ],
   "source": [
    "stock_data = pd.read_csv('upload_DJIA_table.csv')\n",
    "stock_data.head(5)"
   ]
  },
  {
   "cell_type": "code",
   "execution_count": 6,
   "metadata": {
    "colab": {
     "base_uri": "https://localhost:8080/",
     "height": 399
    },
    "id": "zux_wK42u0_L",
    "outputId": "7944de9a-0d2c-4897-a201-61fb4acb2d8f"
   },
   "outputs": [
    {
     "data": {
      "text/html": [
       "<div>\n",
       "<style scoped>\n",
       "    .dataframe tbody tr th:only-of-type {\n",
       "        vertical-align: middle;\n",
       "    }\n",
       "\n",
       "    .dataframe tbody tr th {\n",
       "        vertical-align: top;\n",
       "    }\n",
       "\n",
       "    .dataframe thead th {\n",
       "        text-align: right;\n",
       "    }\n",
       "</style>\n",
       "<table border=\"1\" class=\"dataframe\">\n",
       "  <thead>\n",
       "    <tr style=\"text-align: right;\">\n",
       "      <th></th>\n",
       "      <th>Date</th>\n",
       "      <th>Open</th>\n",
       "      <th>High</th>\n",
       "      <th>Low</th>\n",
       "      <th>Close</th>\n",
       "      <th>Volume</th>\n",
       "      <th>Adj Close</th>\n",
       "    </tr>\n",
       "  </thead>\n",
       "  <tbody>\n",
       "    <tr>\n",
       "      <th>1988</th>\n",
       "      <td>2008-08-08</td>\n",
       "      <td>11432.089844</td>\n",
       "      <td>11759.959961</td>\n",
       "      <td>11388.040039</td>\n",
       "      <td>11734.320312</td>\n",
       "      <td>212830000</td>\n",
       "      <td>11734.320312</td>\n",
       "    </tr>\n",
       "    <tr>\n",
       "      <th>1987</th>\n",
       "      <td>2008-08-11</td>\n",
       "      <td>11729.669922</td>\n",
       "      <td>11867.110352</td>\n",
       "      <td>11675.530273</td>\n",
       "      <td>11782.349609</td>\n",
       "      <td>183190000</td>\n",
       "      <td>11782.349609</td>\n",
       "    </tr>\n",
       "    <tr>\n",
       "      <th>1986</th>\n",
       "      <td>2008-08-12</td>\n",
       "      <td>11781.700195</td>\n",
       "      <td>11782.349609</td>\n",
       "      <td>11601.519531</td>\n",
       "      <td>11642.469727</td>\n",
       "      <td>173590000</td>\n",
       "      <td>11642.469727</td>\n",
       "    </tr>\n",
       "    <tr>\n",
       "      <th>1985</th>\n",
       "      <td>2008-08-13</td>\n",
       "      <td>11632.809570</td>\n",
       "      <td>11633.780273</td>\n",
       "      <td>11453.339844</td>\n",
       "      <td>11532.959961</td>\n",
       "      <td>182550000</td>\n",
       "      <td>11532.959961</td>\n",
       "    </tr>\n",
       "    <tr>\n",
       "      <th>1984</th>\n",
       "      <td>2008-08-14</td>\n",
       "      <td>11532.070312</td>\n",
       "      <td>11718.280273</td>\n",
       "      <td>11450.889648</td>\n",
       "      <td>11615.929688</td>\n",
       "      <td>159790000</td>\n",
       "      <td>11615.929688</td>\n",
       "    </tr>\n",
       "    <tr>\n",
       "      <th>...</th>\n",
       "      <td>...</td>\n",
       "      <td>...</td>\n",
       "      <td>...</td>\n",
       "      <td>...</td>\n",
       "      <td>...</td>\n",
       "      <td>...</td>\n",
       "      <td>...</td>\n",
       "    </tr>\n",
       "    <tr>\n",
       "      <th>4</th>\n",
       "      <td>2016-06-27</td>\n",
       "      <td>17355.210938</td>\n",
       "      <td>17355.210938</td>\n",
       "      <td>17063.080078</td>\n",
       "      <td>17140.240234</td>\n",
       "      <td>138740000</td>\n",
       "      <td>17140.240234</td>\n",
       "    </tr>\n",
       "    <tr>\n",
       "      <th>3</th>\n",
       "      <td>2016-06-28</td>\n",
       "      <td>17190.509766</td>\n",
       "      <td>17409.720703</td>\n",
       "      <td>17190.509766</td>\n",
       "      <td>17409.720703</td>\n",
       "      <td>112190000</td>\n",
       "      <td>17409.720703</td>\n",
       "    </tr>\n",
       "    <tr>\n",
       "      <th>2</th>\n",
       "      <td>2016-06-29</td>\n",
       "      <td>17456.019531</td>\n",
       "      <td>17704.509766</td>\n",
       "      <td>17456.019531</td>\n",
       "      <td>17694.679688</td>\n",
       "      <td>106380000</td>\n",
       "      <td>17694.679688</td>\n",
       "    </tr>\n",
       "    <tr>\n",
       "      <th>1</th>\n",
       "      <td>2016-06-30</td>\n",
       "      <td>17712.759766</td>\n",
       "      <td>17930.609375</td>\n",
       "      <td>17711.800781</td>\n",
       "      <td>17929.990234</td>\n",
       "      <td>133030000</td>\n",
       "      <td>17929.990234</td>\n",
       "    </tr>\n",
       "    <tr>\n",
       "      <th>0</th>\n",
       "      <td>2016-07-01</td>\n",
       "      <td>17924.240234</td>\n",
       "      <td>18002.380859</td>\n",
       "      <td>17916.910156</td>\n",
       "      <td>17949.369141</td>\n",
       "      <td>82160000</td>\n",
       "      <td>17949.369141</td>\n",
       "    </tr>\n",
       "  </tbody>\n",
       "</table>\n",
       "<p>1989 rows × 7 columns</p>\n",
       "</div>"
      ],
      "text/plain": [
       "            Date          Open  ...     Volume     Adj Close\n",
       "1988  2008-08-08  11432.089844  ...  212830000  11734.320312\n",
       "1987  2008-08-11  11729.669922  ...  183190000  11782.349609\n",
       "1986  2008-08-12  11781.700195  ...  173590000  11642.469727\n",
       "1985  2008-08-13  11632.809570  ...  182550000  11532.959961\n",
       "1984  2008-08-14  11532.070312  ...  159790000  11615.929688\n",
       "...          ...           ...  ...        ...           ...\n",
       "4     2016-06-27  17355.210938  ...  138740000  17140.240234\n",
       "3     2016-06-28  17190.509766  ...  112190000  17409.720703\n",
       "2     2016-06-29  17456.019531  ...  106380000  17694.679688\n",
       "1     2016-06-30  17712.759766  ...  133030000  17929.990234\n",
       "0     2016-07-01  17924.240234  ...   82160000  17949.369141\n",
       "\n",
       "[1989 rows x 7 columns]"
      ]
     },
     "execution_count": 6,
     "metadata": {
      "tags": []
     },
     "output_type": "execute_result"
    }
   ],
   "source": [
    "# Adjusting data as per date\n",
    "stock_data.sort_values(by=['Date'], inplace=True, ascending=True)\n",
    "stock_data"
   ]
  },
  {
   "cell_type": "markdown",
   "metadata": {
    "id": "G9h86Ya01MOU"
   },
   "source": [
    "# Comparison of VADER generated sentiment and Expertised sentiment"
   ]
  },
  {
   "cell_type": "markdown",
   "metadata": {
    "id": "ORzlKr85wVtW"
   },
   "source": [
    "Getting DJIA stock market data"
   ]
  },
  {
   "cell_type": "code",
   "execution_count": 7,
   "metadata": {
    "colab": {
     "base_uri": "https://localhost:8080/",
     "height": 428
    },
    "id": "EpY90dWPwaVi",
    "outputId": "fcca53d2-a53d-4344-cf12-93bdef3d4c23"
   },
   "outputs": [
    {
     "data": {
      "text/html": [
       "<div>\n",
       "<style scoped>\n",
       "    .dataframe tbody tr th:only-of-type {\n",
       "        vertical-align: middle;\n",
       "    }\n",
       "\n",
       "    .dataframe tbody tr th {\n",
       "        vertical-align: top;\n",
       "    }\n",
       "\n",
       "    .dataframe thead th {\n",
       "        text-align: right;\n",
       "    }\n",
       "</style>\n",
       "<table border=\"1\" class=\"dataframe\">\n",
       "  <thead>\n",
       "    <tr style=\"text-align: right;\">\n",
       "      <th></th>\n",
       "      <th>pos_mean</th>\n",
       "      <th>neg_mean</th>\n",
       "      <th>neu_mean</th>\n",
       "      <th>High</th>\n",
       "      <th>Low</th>\n",
       "      <th>Open</th>\n",
       "      <th>Volume</th>\n",
       "      <th>Adj Close</th>\n",
       "    </tr>\n",
       "    <tr>\n",
       "      <th>Date</th>\n",
       "      <th></th>\n",
       "      <th></th>\n",
       "      <th></th>\n",
       "      <th></th>\n",
       "      <th></th>\n",
       "      <th></th>\n",
       "      <th></th>\n",
       "      <th></th>\n",
       "    </tr>\n",
       "  </thead>\n",
       "  <tbody>\n",
       "    <tr>\n",
       "      <th>2008-08-08</th>\n",
       "      <td>0.03728</td>\n",
       "      <td>0.19956</td>\n",
       "      <td>0.76320</td>\n",
       "      <td>11808.490234</td>\n",
       "      <td>11344.230469</td>\n",
       "      <td>11432.089844</td>\n",
       "      <td>4966810000</td>\n",
       "      <td>11734.320312</td>\n",
       "    </tr>\n",
       "    <tr>\n",
       "      <th>2008-08-11</th>\n",
       "      <td>0.06180</td>\n",
       "      <td>0.16404</td>\n",
       "      <td>0.77408</td>\n",
       "      <td>11933.549805</td>\n",
       "      <td>11580.190430</td>\n",
       "      <td>11729.669922</td>\n",
       "      <td>5067310000</td>\n",
       "      <td>11782.349609</td>\n",
       "    </tr>\n",
       "    <tr>\n",
       "      <th>2008-08-12</th>\n",
       "      <td>0.06444</td>\n",
       "      <td>0.14580</td>\n",
       "      <td>0.78980</td>\n",
       "      <td>11830.389648</td>\n",
       "      <td>11541.429688</td>\n",
       "      <td>11781.700195</td>\n",
       "      <td>4711290000</td>\n",
       "      <td>11642.469727</td>\n",
       "    </tr>\n",
       "    <tr>\n",
       "      <th>2008-08-13</th>\n",
       "      <td>0.05620</td>\n",
       "      <td>0.14432</td>\n",
       "      <td>0.79944</td>\n",
       "      <td>11689.049805</td>\n",
       "      <td>11377.370117</td>\n",
       "      <td>11632.809570</td>\n",
       "      <td>4787600000</td>\n",
       "      <td>11532.959961</td>\n",
       "    </tr>\n",
       "    <tr>\n",
       "      <th>2008-08-14</th>\n",
       "      <td>0.08372</td>\n",
       "      <td>0.16136</td>\n",
       "      <td>0.75488</td>\n",
       "      <td>11744.330078</td>\n",
       "      <td>11399.839844</td>\n",
       "      <td>11532.070312</td>\n",
       "      <td>4064000000</td>\n",
       "      <td>11615.929688</td>\n",
       "    </tr>\n",
       "    <tr>\n",
       "      <th>...</th>\n",
       "      <td>...</td>\n",
       "      <td>...</td>\n",
       "      <td>...</td>\n",
       "      <td>...</td>\n",
       "      <td>...</td>\n",
       "      <td>...</td>\n",
       "      <td>...</td>\n",
       "      <td>...</td>\n",
       "    </tr>\n",
       "    <tr>\n",
       "      <th>2016-06-27</th>\n",
       "      <td>0.09048</td>\n",
       "      <td>0.15316</td>\n",
       "      <td>0.75636</td>\n",
       "      <td>17355.210938</td>\n",
       "      <td>17005.439453</td>\n",
       "      <td>17355.210938</td>\n",
       "      <td>5431220000</td>\n",
       "      <td>17140.240234</td>\n",
       "    </tr>\n",
       "    <tr>\n",
       "      <th>2016-06-28</th>\n",
       "      <td>0.09972</td>\n",
       "      <td>0.13696</td>\n",
       "      <td>0.76328</td>\n",
       "      <td>17453.929688</td>\n",
       "      <td>17174.960938</td>\n",
       "      <td>17190.509766</td>\n",
       "      <td>4385810000</td>\n",
       "      <td>17409.720703</td>\n",
       "    </tr>\n",
       "    <tr>\n",
       "      <th>2016-06-29</th>\n",
       "      <td>0.09188</td>\n",
       "      <td>0.18680</td>\n",
       "      <td>0.72124</td>\n",
       "      <td>17737.380859</td>\n",
       "      <td>17456.019531</td>\n",
       "      <td>17456.019531</td>\n",
       "      <td>4241740000</td>\n",
       "      <td>17694.679688</td>\n",
       "    </tr>\n",
       "    <tr>\n",
       "      <th>2016-06-30</th>\n",
       "      <td>0.07012</td>\n",
       "      <td>0.17988</td>\n",
       "      <td>0.74996</td>\n",
       "      <td>17970.259766</td>\n",
       "      <td>17647.189453</td>\n",
       "      <td>17719.539062</td>\n",
       "      <td>4622820000</td>\n",
       "      <td>17929.990234</td>\n",
       "    </tr>\n",
       "    <tr>\n",
       "      <th>2016-07-01</th>\n",
       "      <td>0.07616</td>\n",
       "      <td>0.20388</td>\n",
       "      <td>0.71996</td>\n",
       "      <td>18064.220703</td>\n",
       "      <td>17856.029297</td>\n",
       "      <td>17924.240234</td>\n",
       "      <td>3458890000</td>\n",
       "      <td>17949.369141</td>\n",
       "    </tr>\n",
       "  </tbody>\n",
       "</table>\n",
       "<p>1989 rows × 8 columns</p>\n",
       "</div>"
      ],
      "text/plain": [
       "            pos_mean  neg_mean  ...      Volume     Adj Close\n",
       "Date                            ...                          \n",
       "2008-08-08   0.03728   0.19956  ...  4966810000  11734.320312\n",
       "2008-08-11   0.06180   0.16404  ...  5067310000  11782.349609\n",
       "2008-08-12   0.06444   0.14580  ...  4711290000  11642.469727\n",
       "2008-08-13   0.05620   0.14432  ...  4787600000  11532.959961\n",
       "2008-08-14   0.08372   0.16136  ...  4064000000  11615.929688\n",
       "...              ...       ...  ...         ...           ...\n",
       "2016-06-27   0.09048   0.15316  ...  5431220000  17140.240234\n",
       "2016-06-28   0.09972   0.13696  ...  4385810000  17409.720703\n",
       "2016-06-29   0.09188   0.18680  ...  4241740000  17694.679688\n",
       "2016-06-30   0.07012   0.17988  ...  4622820000  17929.990234\n",
       "2016-07-01   0.07616   0.20388  ...  3458890000  17949.369141\n",
       "\n",
       "[1989 rows x 8 columns]"
      ]
     },
     "execution_count": 7,
     "metadata": {
      "tags": []
     },
     "output_type": "execute_result"
    }
   ],
   "source": [
    "##ZION,KGC,AMD,SOHU,BLIN,WMT,AMGN,NKTR,T,AAPL\n",
    "list_of_tickers=['DJIA'] \n",
    "\n",
    "for i in list_of_tickers:\n",
    "  start = datetime.datetime(2008, 8, 8)\n",
    "  end = datetime.datetime(2016, 7, 1)\n",
    "  zion = web.DataReader(i, 'yahoo', start, end)\n",
    "data=zion.drop(['Close'],axis=1)\n",
    "temp_data=zion.drop(['Close'],axis=1)\n",
    "\n",
    "#merge the stock data with the sentiment data (VADER and Expertise) individually\n",
    "\n",
    "expertise_data = pd.merge(labels, data, right_index=True, left_index=True)\n",
    "\n",
    "vader_data=pd.merge(result, data, right_index=True, left_index=True)\n",
    "\n",
    "#we will consider the compund score of the VADER since it has the compound score of the pos, neg and neu\n",
    "\n",
    "vader_data = vader_data.drop(columns=['comp_mean'])\n",
    "vader_data"
   ]
  },
  {
   "cell_type": "markdown",
   "metadata": {
    "id": "JDk0tkUovQXE"
   },
   "source": [
    "# Generation of lags for the time series data"
   ]
  },
  {
   "cell_type": "code",
   "execution_count": 8,
   "metadata": {
    "id": "_irvp0BWwDlI"
   },
   "outputs": [],
   "source": [
    "# Adjusting data as per date\n",
    "data.sort_values(by=['Date'], inplace=True, ascending=True)"
   ]
  },
  {
   "cell_type": "code",
   "execution_count": 9,
   "metadata": {
    "id": "A_Qi8T5lwwRE"
   },
   "outputs": [],
   "source": [
    "#Scaling the variables(x) and variable(y)\n",
    "sca_vader = vader_data.iloc[:,:]\n",
    "sca_expertise = expertise_data.iloc[:,:]"
   ]
  },
  {
   "cell_type": "code",
   "execution_count": 11,
   "metadata": {
    "id": "LMXmseygvhyo"
   },
   "outputs": [],
   "source": [
    "#Standardization of data is required as the dataset consists of variables of different scales\n",
    "sc = StandardScaler()\n",
    "scaled_vader=sc.fit_transform(sca_vader)\n",
    "scaled_vader = pd.DataFrame(data=scaled_vader,columns=['pos_mean','neu_mean','neg_mean','Open','High','Low','Volume','Adj Close'])\n",
    "\n",
    "\n",
    "sc = StandardScaler()\n",
    "scaled_exp=sc.fit_transform(sca_expertise)\n",
    "scaled_exp = pd.DataFrame(data=scaled_exp,columns=['Label','Open','High','Low','Volume','Adj Close'])"
   ]
  },
  {
   "cell_type": "markdown",
   "metadata": {
    "id": "xMzhQTQ-xQCf"
   },
   "source": [
    "Splitting the data for creating training and testing sets"
   ]
  },
  {
   "cell_type": "code",
   "execution_count": 14,
   "metadata": {
    "colab": {
     "base_uri": "https://localhost:8080/"
    },
    "id": "MvCYxVgj6dy1",
    "outputId": "9fd37fb2-df56-4e71-ca4a-376eb2d71433"
   },
   "outputs": [
    {
     "data": {
      "text/plain": [
       "0      -0.549983\n",
       "1      -0.534702\n",
       "2      -0.579205\n",
       "3      -0.614045\n",
       "4      -0.587648\n",
       "          ...   \n",
       "1984    1.169894\n",
       "1985    1.255628\n",
       "1986    1.346287\n",
       "1987    1.421150\n",
       "1988    1.427316\n",
       "Name: Adj Close, Length: 1989, dtype: float64"
      ]
     },
     "execution_count": 14,
     "metadata": {
      "tags": []
     },
     "output_type": "execute_result"
    }
   ],
   "source": [
    "scaled_vader.iloc[:,7]"
   ]
  },
  {
   "cell_type": "code",
   "execution_count": 16,
   "metadata": {
    "id": "h_Ug18mexC5q"
   },
   "outputs": [],
   "source": [
    "x_vader = scaled_vader.iloc[:,0:7]\n",
    "y_vader = scaled_vader.iloc[:,7]\n",
    "\n",
    "x_exp = scaled_exp.iloc[:,0:5]\n",
    "y_exp = scaled_exp.iloc[:,5]\n",
    "#Splitting data into training(70% data) and testing data(30% data)\n",
    "#x_train, x_test, y_train, y_test = train_test_split(x, y, test_size=0.30,random_state=1)\n",
    "x_train_vader, x_test_vader, y_train_vader, y_test_vader = train_test_split(x_vader, y_vader, test_size=0.30,random_state=1)\n",
    "x_train_exp, x_test_exp, y_train_exp, y_test_exp = train_test_split(x_exp, y_exp, test_size=0.30,random_state=1)"
   ]
  },
  {
   "cell_type": "code",
   "execution_count": 17,
   "metadata": {
    "id": "qGQ80wFHxHnH"
   },
   "outputs": [],
   "source": [
    "class fun_t(keras.callbacks.Callback):\n",
    "    def on_train_begin(self, logs={}):\n",
    "        self.times = []\n",
    "\n",
    "    def on_epoch_begin(self, batch, logs={}):\n",
    "        self.epoch_time_start = time.time()\n",
    "\n",
    "    def on_epoch_end(self, batch, logs={}):\n",
    "        self.times.append(time.time() - self.epoch_time_start)"
   ]
  },
  {
   "cell_type": "code",
   "execution_count": 18,
   "metadata": {
    "id": "CEI4mTiKu_Jb"
   },
   "outputs": [],
   "source": [
    "def dataset(xtra,x,y,time_steps):\n",
    "  import numpy as np\n",
    "  xs, ys = [], []\n",
    "  xtra=xtra\n",
    "  xnum=xtra.to_numpy()\n",
    "  for i in range(len(x) - time_steps):\n",
    "    v = x.iloc[i : (i+time_steps)].to_numpy()\n",
    "    comb=np.concatenate((v, xnum[i+time_steps]), axis=None)\n",
    "    xs.append(comb)\n",
    "    ys.append(y.iloc[i+time_steps]) #So that next y is considered\n",
    "  return np.array(xs), np.array(ys)"
   ]
  },
  {
   "cell_type": "code",
   "execution_count": 20,
   "metadata": {
    "id": "OBsSGCPuvUad"
   },
   "outputs": [],
   "source": [
    "TIME_STEPS = 1\n",
    "# x_train1, y_train1 = dataset(x_train,y_train, y_train, TIME_STEPS)\n",
    "# x_test1, y_test1 = dataset(x_test,y_test, y_test, TIME_STEPS)\n",
    "\n",
    "x_train_vader, y_train_vader = dataset(x_train_vader,y_train_vader, y_train_vader, TIME_STEPS)\n",
    "x_test_vader, y_test_vader = dataset(x_test_vader,y_test_vader, y_test_vader, TIME_STEPS)\n",
    "\n",
    "x_train_exp, y_train_exp = dataset(x_train_exp,y_train_exp, y_train_exp, TIME_STEPS)\n",
    "x_test_exp, y_test_exp = dataset(x_test_exp,y_test_exp, y_test_exp, TIME_STEPS)"
   ]
  },
  {
   "cell_type": "code",
   "execution_count": 21,
   "metadata": {
    "id": "YuNIKknExOM8"
   },
   "outputs": [],
   "source": [
    "# print(x_train1.shape, y_train1.shape)\n",
    "# print(x_test1.shape, y_test1.shape)\n",
    "\n",
    "# x_train1=x_train1.reshape((x_train1.shape[0], 1,x_train1.shape[1]))\n",
    "# x_test1=x_test1.reshape((x_test1.shape[0], 1,x_test1.shape[1]))\n",
    "\n",
    "# print(x_train1.shape, y_train1.shape)\n",
    "# print(x_test1.shape, y_test1.shape)\n",
    "\n",
    "x_train_vader=x_train_vader.reshape((x_train_vader.shape[0], 1,x_train_vader.shape[1]))\n",
    "x_test_vader=x_test_vader.reshape((x_test_vader.shape[0], 1,x_test_vader.shape[1]))\n",
    "\n",
    "x_train_exp=x_train_exp.reshape((x_train_exp.shape[0], 1,x_train_exp.shape[1]))\n",
    "x_test_exp=x_test_exp.reshape((x_test_exp.shape[0], 1,x_test_exp.shape[1]))"
   ]
  },
  {
   "cell_type": "markdown",
   "metadata": {
    "id": "HuONgGr2x1uB"
   },
   "source": [
    "In the below cell we will evaluate the performance of the data including the sentiment scores from VADER and Expertise. "
   ]
  },
  {
   "cell_type": "code",
   "execution_count": 22,
   "metadata": {
    "colab": {
     "base_uri": "https://localhost:8080/"
    },
    "id": "BM6w4zxFxeRH",
    "outputId": "ab5ae31e-825d-41ae-b77a-96ca12da4612"
   },
   "outputs": [
    {
     "name": "stdout",
     "output_type": "stream",
     "text": [
      "CPU times: user 40 s, sys: 2.81 s, total: 42.8 s\n",
      "Wall time: 29.7 s\n"
     ]
    }
   ],
   "source": [
    "#Evaluation using the VADER\n",
    "%%time\n",
    "np.random.seed = 1   \n",
    "tf.random.set_seed = 2  \n",
    "time3=fun_t()\n",
    "history=History()\n",
    "lstm_model = Sequential()\n",
    "lstm_model.add(keras.layers.LSTM(units = 1, input_shape = (x_train_vader.shape[1],x_train_vader.shape[2])))\n",
    "lstm_model.add(keras.layers.Dense(units = 1))\n",
    "lstm_model.compile(loss='mean_squared_error', optimizer='adam')\n",
    "history = lstm_model.fit(x_train_vader,y_train_vader, epochs= 150, shuffle = False, batch_size = 7, callbacks=[history,time3],validation_split = 0.3,verbose = 0)"
   ]
  },
  {
   "cell_type": "code",
   "execution_count": 23,
   "metadata": {
    "colab": {
     "base_uri": "https://localhost:8080/"
    },
    "id": "gaAqPwwHyHtN",
    "outputId": "af7a5f81-f845-43ea-9f90-da40b8271cde"
   },
   "outputs": [
    {
     "name": "stdout",
     "output_type": "stream",
     "text": [
      "Long Short Term Memory Model Time Taken:  28.974926710128784\n",
      "Base MSE for the above model: 0.0030550574883818626\n"
     ]
    }
   ],
   "source": [
    "time_lstm = list(time3.times)\n",
    "print('Long Short Term Memory Model Time Taken: ',sum(time_lstm))\n",
    "train_lstm = history.history.get('loss')\n",
    "val_lstm = history.history.get('val_loss')\n",
    "\n",
    "base_mse=val_lstm[-1]\n",
    "print('Base MSE for the above model:',base_mse)"
   ]
  },
  {
   "cell_type": "code",
   "execution_count": 24,
   "metadata": {
    "colab": {
     "base_uri": "https://localhost:8080/"
    },
    "id": "eX2LHdNFymlu",
    "outputId": "df6dd62c-e01e-4aa1-d328-8f9f0fb6e8d5"
   },
   "outputs": [
    {
     "name": "stdout",
     "output_type": "stream",
     "text": [
      "CPU times: user 39.3 s, sys: 2.61 s, total: 41.9 s\n",
      "Wall time: 28.4 s\n"
     ]
    }
   ],
   "source": [
    "#now evaluating the performance of the model using the Expert generated sentiment labels\n",
    "\n",
    "#Evaluation using the Expertise\n",
    "%%time\n",
    "np.random.seed = 1   \n",
    "tf.random.set_seed = 2  \n",
    "time3=fun_t()\n",
    "history=History()\n",
    "lstm_model = Sequential()\n",
    "lstm_model.add(keras.layers.LSTM(units = 1, input_shape = (x_train_exp.shape[1],x_train_exp.shape[2])))\n",
    "lstm_model.add(keras.layers.Dense(units = 1))\n",
    "lstm_model.compile(loss='mean_squared_error', optimizer='adam')\n",
    "history = lstm_model.fit(x_train_exp,y_train_exp, epochs= 150, shuffle = False, batch_size = 7, callbacks=[history,time3],validation_split = 0.3,verbose = 0)"
   ]
  },
  {
   "cell_type": "code",
   "execution_count": 25,
   "metadata": {
    "colab": {
     "base_uri": "https://localhost:8080/"
    },
    "id": "uO2FGI5S_Cnz",
    "outputId": "099a6dd8-9128-446d-d3fe-d654390c3b84"
   },
   "outputs": [
    {
     "name": "stdout",
     "output_type": "stream",
     "text": [
      "Long Short Term Memory Model Time Taken:  28.07194471359253\n",
      "Base MSE for the above model: 0.0023978634271770716\n"
     ]
    }
   ],
   "source": [
    "time_lstm = list(time3.times)\n",
    "print('Long Short Term Memory Model Time Taken: ',sum(time_lstm))\n",
    "train_lstm = history.history.get('loss')\n",
    "val_lstm = history.history.get('val_loss')\n",
    "\n",
    "base_mse=val_lstm[-1]\n",
    "print('Base MSE for the above model:',base_mse)"
   ]
  },
  {
   "cell_type": "markdown",
   "metadata": {
    "id": "gnN3uZ-GVf-x"
   },
   "source": [
    "# Comparison of MSE for VADER and Expertise Sentiment"
   ]
  },
  {
   "cell_type": "code",
   "execution_count": 31,
   "metadata": {
    "colab": {
     "base_uri": "https://localhost:8080/",
     "height": 76
    },
    "id": "mVS64mI5_F4q",
    "outputId": "a59f7092-4d6c-49af-89ad-2f67058456ae"
   },
   "outputs": [
    {
     "data": {
      "text/html": [
       "<div>\n",
       "<style scoped>\n",
       "    .dataframe tbody tr th:only-of-type {\n",
       "        vertical-align: middle;\n",
       "    }\n",
       "\n",
       "    .dataframe tbody tr th {\n",
       "        vertical-align: top;\n",
       "    }\n",
       "\n",
       "    .dataframe thead th {\n",
       "        text-align: right;\n",
       "    }\n",
       "</style>\n",
       "<table border=\"1\" class=\"dataframe\">\n",
       "  <thead>\n",
       "    <tr style=\"text-align: right;\">\n",
       "      <th></th>\n",
       "      <th>Vader Sentiment Analysis MSE</th>\n",
       "      <th>Expertise Sentiment analysis MSE</th>\n",
       "    </tr>\n",
       "  </thead>\n",
       "  <tbody>\n",
       "    <tr>\n",
       "      <th>0</th>\n",
       "      <td>0.00305</td>\n",
       "      <td>0.00239</td>\n",
       "    </tr>\n",
       "  </tbody>\n",
       "</table>\n",
       "</div>"
      ],
      "text/plain": [
       "   Vader Sentiment Analysis MSE  Expertise Sentiment analysis MSE\n",
       "0                       0.00305                           0.00239"
      ]
     },
     "execution_count": 31,
     "metadata": {
      "tags": []
     },
     "output_type": "execute_result"
    }
   ],
   "source": [
    "d = {'Vader Sentiment Analysis MSE': [0.00305], 'Expertise Sentiment analysis MSE': [0.00239]}\n",
    "df = pd.DataFrame(data=d)\n",
    "df"
   ]
  },
  {
   "cell_type": "markdown",
   "metadata": {
    "id": "W211Mg3vWVlx"
   },
   "source": [
    "Based on the above result we can conclude that expertised sentiment are providing lower MSE. Therefore, we will consider Expertise Sentiments for the further analysis."
   ]
  },
  {
   "cell_type": "code",
   "execution_count": null,
   "metadata": {
    "id": "EymUnaDdV-gv"
   },
   "outputs": [],
   "source": []
  }
 ],
 "metadata": {
  "colab": {
   "collapsed_sections": [],
   "name": "vader_vs_exp.ipynb",
   "provenance": []
  },
  "kernelspec": {
   "display_name": "Python 3",
   "language": "python",
   "name": "python3"
  },
  "language_info": {
   "codemirror_mode": {
    "name": "ipython",
    "version": 3
   },
   "file_extension": ".py",
   "mimetype": "text/x-python",
   "name": "python",
   "nbconvert_exporter": "python",
   "pygments_lexer": "ipython3",
   "version": "3.8.3"
  }
 },
 "nbformat": 4,
 "nbformat_minor": 1
}
