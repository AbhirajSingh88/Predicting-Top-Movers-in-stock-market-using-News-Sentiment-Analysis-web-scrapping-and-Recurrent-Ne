{
 "cells": [
  {
   "cell_type": "code",
   "execution_count": 20,
   "metadata": {
    "colab": {
     "base_uri": "https://localhost:8080/"
    },
    "id": "oIOh9aGvT9rF",
    "outputId": "3eaf1e61-4a33-4881-f739-d83af4c5f2ea"
   },
   "outputs": [
    {
     "name": "stdout",
     "output_type": "stream",
     "text": [
      "https://www.fool.com/investing-news/?page=0/\n",
      "['<h4>Forget', 'First', 'Solar:', 'SolarEdge', 'Is', 'a', 'Better', 'Renewable', 'Energy', 'Stock</h4>']\n",
      "['<h4>Should', 'You', 'Buy', 'Stocks', 'Now?</h4>']\n",
      "['<h4>Buy', 'These', '5', 'Stocks', 'Before', 'Another', 'Market', 'Rally</h4>']\n",
      "['<h4>AT&amp;T', 'Names', 'Ex-FCC', 'Chief', 'New', 'Chairman', 'of', 'Its', 'Board</h4>']\n",
      "['<h4>New', 'York', 'Governor', 'Indicates', 'State', 'Will', 'Legalize', 'Recreational', 'Marijuana', 'This', 'Year</h4>']\n",
      "['<h4>Frozen', 'Foods', 'and', \"Chefs'\", 'Tattoos</h4>']\n",
      "['<h4>Why', 'Cronos', 'Group,', 'HEXO,', 'OrganiGram,', 'and', 'Other', 'Marijuana', 'Stocks', 'Soared', 'Today</h4>']\n",
      "['<h4>Why', 'Electronic', 'Arts', 'Stock', 'Fell', 'Today</h4>']\n",
      "['<h4>Why', 'Emergent', 'BioSolutions', 'Slipped', 'on', 'Friday</h4>']\n",
      "['<h4>Uber', 'Zooms', 'Nearly', '7%', 'Higher', 'on', 'Q3', 'Results</h4>']\n",
      "['<h4>FDA', 'Committee', 'Votes', 'Strongly', 'Against', \"Biogen's\", \"Alzheimer's\", 'Disease', 'Drug</h4>']\n",
      "['<h4>Square', 'Stock', 'Soars', 'Over', '12%', 'on', 'Blowout', 'Third', 'Quarter3', 'Report</h4>']\n",
      "['<h4>Curaleaf', 'Raises', '$31.5', 'Million', 'From', 'Asset', 'Sales</h4>']\n",
      "['<h4>Walmart', 'Sells', 'Its', 'Argentina', 'Business</h4>']\n",
      "['<h4>Markets', 'Finish', 'a', 'Winning', 'Week', 'as', 'Cloud', 'Stocks', 'Head', 'Skyward</h4>']\n",
      "['<h4>Why', 'Globalstar', 'Stock', 'Popped', '14%', 'Today</h4>']\n",
      "['<h4>Why', 'T-Mobile', 'Stock', 'Jumped', 'Today</h4>']\n",
      "['<h4>Why', 'Modine', 'Manufacturing', 'Shares', 'Soared', 'Over', '48%', 'Friday', 'Morning</h4>']\n",
      "['<h4>Dow', 'Jones', 'Little', 'Changed', 'as', \"Visa's\", 'Plaid', 'Acquisition', 'Challenged,', 'Disney', 'Pulls', 'Movies', 'From', 'Theaters</h4>']\n",
      "['<h4>Why', 'Ubiquiti', 'Jumped', '11.4%', 'in', 'October</h4>']\n",
      "['<h4>Why', 'Assembly', 'Biosciences', 'Stock', 'Crashed', 'Today</h4>']\n",
      "['<h4>Why', 'Groupon', 'Stock', 'Plunged', 'This', 'Morning', 'but', 'Has', 'Since', 'Recovered</h4>']\n",
      "['<h4>Why', 'Overstock.com', 'Shares', 'Fell', '23%', 'Last', 'Month</h4>']\n",
      "https://www.fool.com/investing-news/?page=1/\n",
      "['<h4>Forget', 'First', 'Solar:', 'SolarEdge', 'Is', 'a', 'Better', 'Renewable', 'Energy', 'Stock</h4>']\n",
      "['<h4>Should', 'You', 'Buy', 'Stocks', 'Now?</h4>']\n",
      "['<h4>Buy', 'These', '5', 'Stocks', 'Before', 'Another', 'Market', 'Rally</h4>']\n",
      "['<h4>AT&amp;T', 'Names', 'Ex-FCC', 'Chief', 'New', 'Chairman', 'of', 'Its', 'Board</h4>']\n",
      "['<h4>New', 'York', 'Governor', 'Indicates', 'State', 'Will', 'Legalize', 'Recreational', 'Marijuana', 'This', 'Year</h4>']\n",
      "['<h4>Frozen', 'Foods', 'and', \"Chefs'\", 'Tattoos</h4>']\n",
      "['<h4>Why', 'Cronos', 'Group,', 'HEXO,', 'OrganiGram,', 'and', 'Other', 'Marijuana', 'Stocks', 'Soared', 'Today</h4>']\n",
      "['<h4>Why', 'Electronic', 'Arts', 'Stock', 'Fell', 'Today</h4>']\n",
      "['<h4>Why', 'Emergent', 'BioSolutions', 'Slipped', 'on', 'Friday</h4>']\n",
      "['<h4>Uber', 'Zooms', 'Nearly', '7%', 'Higher', 'on', 'Q3', 'Results</h4>']\n",
      "['<h4>FDA', 'Committee', 'Votes', 'Strongly', 'Against', \"Biogen's\", \"Alzheimer's\", 'Disease', 'Drug</h4>']\n",
      "['<h4>Square', 'Stock', 'Soars', 'Over', '12%', 'on', 'Blowout', 'Third', 'Quarter3', 'Report</h4>']\n",
      "['<h4>Curaleaf', 'Raises', '$31.5', 'Million', 'From', 'Asset', 'Sales</h4>']\n",
      "['<h4>Walmart', 'Sells', 'Its', 'Argentina', 'Business</h4>']\n",
      "['<h4>Markets', 'Finish', 'a', 'Winning', 'Week', 'as', 'Cloud', 'Stocks', 'Head', 'Skyward</h4>']\n",
      "['<h4>Why', 'Globalstar', 'Stock', 'Popped', '14%', 'Today</h4>']\n",
      "['<h4>Why', 'T-Mobile', 'Stock', 'Jumped', 'Today</h4>']\n",
      "['<h4>Why', 'Modine', 'Manufacturing', 'Shares', 'Soared', 'Over', '48%', 'Friday', 'Morning</h4>']\n",
      "['<h4>Dow', 'Jones', 'Little', 'Changed', 'as', \"Visa's\", 'Plaid', 'Acquisition', 'Challenged,', 'Disney', 'Pulls', 'Movies', 'From', 'Theaters</h4>']\n",
      "['<h4>Why', 'Ubiquiti', 'Jumped', '11.4%', 'in', 'October</h4>']\n",
      "['<h4>Why', 'Assembly', 'Biosciences', 'Stock', 'Crashed', 'Today</h4>']\n",
      "['<h4>Why', 'Groupon', 'Stock', 'Plunged', 'This', 'Morning', 'but', 'Has', 'Since', 'Recovered</h4>']\n",
      "['<h4>Why', 'Overstock.com', 'Shares', 'Fell', '23%', 'Last', 'Month</h4>']\n"
     ]
    }
   ],
   "source": [
    "#import appropriate libraries for web scraping and data science\n",
    "from urllib.request import Request, urlopen\n",
    "import numpy as np\n",
    "from bs4 import BeautifulSoup as soup\n",
    "import pandas as pd\n",
    "import matplotlib.pyplot as plt\n",
    "from wordcloud import WordCloud\n",
    "\n",
    "#Going through the pages\n",
    "for i in range(2):\n",
    "\t#Send a request to the url\n",
    "\turl = 'https://www.fool.com/investing-news/' + '?page=' + str(i) + '/'\n",
    "\tprint(url)\n",
    "\treq = Request(url , headers={'User-Agent': 'Mozilla/5.0'})\n",
    "\t#Get the web page\n",
    "\twebpage = urlopen(req).read()\n",
    "\tpage_soup = soup(webpage, \"html.parser\")\n",
    "\tcontainers = page_soup.findAll(\"h4\")\n",
    "\t#Go through all the headlines \n",
    "\tfor container in containers:\n",
    "\t\t#Split the Headline\n",
    "\t\tlist_words= str(container).split()\n",
    "\t\tprint(list_words)"
   ]
  }
 ],
 "metadata": {
  "colab": {
   "name": "TopMoversMotleyTrainingData.ipynb",
   "provenance": []
  },
  "kernelspec": {
   "display_name": "Python 3",
   "language": "python",
   "name": "python3"
  },
  "language_info": {
   "codemirror_mode": {
    "name": "ipython",
    "version": 3
   },
   "file_extension": ".py",
   "mimetype": "text/x-python",
   "name": "python",
   "nbconvert_exporter": "python",
   "pygments_lexer": "ipython3",
   "version": "3.8.3"
  }
 },
 "nbformat": 4,
 "nbformat_minor": 1
}
